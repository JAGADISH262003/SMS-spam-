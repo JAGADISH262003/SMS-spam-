{
 "cells": [
  {
   "cell_type": "code",
   "execution_count": 1,
   "metadata": {},
   "outputs": [],
   "source": [
    "import pandas as pd\n",
    "import numpy as np\n",
    "from sklearn.feature_extraction.text import CountVectorizer, TfidfVectorizer\n",
    "from sklearn.model_selection import train_test_split\n",
    "from sklearn.metrics import classification_report\n",
    "import tensorflow as tf\n",
    "from tensorflow.keras.models import Sequential\n",
    "from tensorflow.keras.layers import Embedding, LSTM, Dense, Conv1D, MaxPooling1D, GlobalMaxPooling1D, Dropout\n",
    "from tensorflow.keras.preprocessing.text import Tokenizer\n",
    "from tensorflow.keras.preprocessing.sequence import pad_sequences\n",
    "import gensim.downloader as api"
   ]
  },
  {
   "cell_type": "code",
   "execution_count": 4,
   "metadata": {},
   "outputs": [],
   "source": [
    "# Load Dataset\n",
    "data = pd.read_csv(\"dataset.csv\")\n",
    "data['Message'] = data['Message'].astype(str)"
   ]
  },
  {
   "cell_type": "code",
   "execution_count": 5,
   "metadata": {},
   "outputs": [],
   "source": [
    "# Split the dataset into training and testing sets\n",
    "X = data['Message']\n",
    "y = data['EncodedClass']\n",
    "X_train, X_test, y_train, y_test = train_test_split(X, y, test_size=0.2, random_state=42, stratify=y)"
   ]
  },
  {
   "cell_type": "code",
   "execution_count": 6,
   "metadata": {},
   "outputs": [],
   "source": [
    "# Tokenize and pad sequences for deep learning models\n",
    "tokenizer = Tokenizer()\n",
    "tokenizer.fit_on_texts(X_train)\n",
    "X_train_seq = tokenizer.texts_to_sequences(X_train)\n",
    "X_test_seq = tokenizer.texts_to_sequences(X_test)\n",
    "X_train_pad = pad_sequences(X_train_seq, maxlen=100, padding='post')\n",
    "X_test_pad = pad_sequences(X_test_seq, maxlen=100, padding='post')\n",
    "vocab_size = len(tokenizer.word_index) + 1"
   ]
  },
  {
   "cell_type": "code",
   "execution_count": 5,
   "metadata": {},
   "outputs": [
    {
     "name": "stdout",
     "output_type": "stream",
     "text": [
      "Building LSTM+CNN Hybrid Model\n"
     ]
    }
   ],
   "source": [
    "# Build LSTM+CNN Hybrid Model\n",
    "print(\"Building LSTM+CNN Hybrid Model\")\n",
    "hybrid_model = Sequential([\n",
    "    Embedding(input_dim=vocab_size, output_dim=128, input_length=100),\n",
    "    LSTM(128, return_sequences=True),\n",
    "    Dropout(0.2),\n",
    "    Conv1D(filters=64, kernel_size=3, activation='relu'),\n",
    "    MaxPooling1D(pool_size=2),\n",
    "    GlobalMaxPooling1D(),\n",
    "    Dense(64, activation='relu'),\n",
    "    Dropout(0.5),\n",
    "    Dense(1, activation='sigmoid')\n",
    "])\n",
    "\n",
    "hybrid_model.compile(optimizer='adam', loss='binary_crossentropy', metrics=['accuracy'])"
   ]
  },
  {
   "cell_type": "code",
   "execution_count": 6,
   "metadata": {},
   "outputs": [
    {
     "name": "stdout",
     "output_type": "stream",
     "text": [
      "Epoch 1/5\n",
      "140/140 [==============================] - 14s 87ms/step - loss: 0.2703 - accuracy: 0.9168 - val_loss: 0.0630 - val_accuracy: 0.9839\n",
      "Epoch 2/5\n",
      "140/140 [==============================] - 12s 87ms/step - loss: 0.0485 - accuracy: 0.9910 - val_loss: 0.0547 - val_accuracy: 0.9892\n",
      "Epoch 3/5\n",
      "140/140 [==============================] - 12s 86ms/step - loss: 0.0235 - accuracy: 0.9962 - val_loss: 0.0529 - val_accuracy: 0.9865\n",
      "Epoch 4/5\n",
      "140/140 [==============================] - 14s 100ms/step - loss: 0.0157 - accuracy: 0.9975 - val_loss: 0.0693 - val_accuracy: 0.9839\n",
      "Epoch 5/5\n",
      "140/140 [==============================] - 16s 113ms/step - loss: 0.0081 - accuracy: 0.9989 - val_loss: 0.0641 - val_accuracy: 0.9857\n"
     ]
    },
    {
     "data": {
      "text/plain": [
       "<keras.src.callbacks.History at 0x25261606ee0>"
      ]
     },
     "execution_count": 6,
     "metadata": {},
     "output_type": "execute_result"
    }
   ],
   "source": [
    "# Train the hybrid model\n",
    "hybrid_model.fit(X_train_pad, y_train, validation_data=(X_test_pad, y_test), epochs=5, batch_size=32)"
   ]
  },
  {
   "cell_type": "code",
   "execution_count": 7,
   "metadata": {},
   "outputs": [
    {
     "name": "stderr",
     "output_type": "stream",
     "text": [
      "e:\\Softwares\\anaconda3\\envs\\100p\\lib\\site-packages\\keras\\src\\engine\\training.py:3000: UserWarning: You are saving your model as an HDF5 file via `model.save()`. This file format is considered legacy. We recommend using instead the native Keras format, e.g. `model.save('my_model.keras')`.\n",
      "  saving_api.save_model(\n"
     ]
    },
    {
     "name": "stdout",
     "output_type": "stream",
     "text": [
      "Model saved to hybrid_lstm_cnn_model.h5\n"
     ]
    }
   ],
   "source": [
    "# Save the model\n",
    "model_path = \"hybrid_lstm_cnn_model.h5\"\n",
    "hybrid_model.save(model_path)\n",
    "print(f\"Model saved to {model_path}\")"
   ]
  },
  {
   "cell_type": "code",
   "execution_count": 8,
   "metadata": {},
   "outputs": [
    {
     "name": "stdout",
     "output_type": "stream",
     "text": [
      "35/35 [==============================] - 1s 25ms/step - loss: 0.0641 - accuracy: 0.9857\n",
      "Hybrid Model Test Accuracy: 0.9856502413749695\n"
     ]
    }
   ],
   "source": [
    "# Evaluate the model\n",
    "loss, accuracy = hybrid_model.evaluate(X_test_pad, y_test)\n",
    "print(f\"Hybrid Model Test Accuracy: {accuracy}\")"
   ]
  },
  {
   "cell_type": "code",
   "execution_count": 8,
   "metadata": {},
   "outputs": [],
   "source": [
    "from tensorflow.keras.models import load_model"
   ]
  },
  {
   "cell_type": "code",
   "execution_count": 12,
   "metadata": {},
   "outputs": [
    {
     "name": "stdout",
     "output_type": "stream",
     "text": [
      "1/1 [==============================] - 0s 460ms/step\n",
      "Prediction for custom input: Spam\n"
     ]
    }
   ],
   "source": [
    "# Custom input prediction\n",
    "def predict_custom_input(input_text):\n",
    "    input_seq = tokenizer.texts_to_sequences([input_text])\n",
    "    input_pad = pad_sequences(input_seq, maxlen=100, padding='post')\n",
    "    hybrid_model = load_model(\"hybrid_lstm_cnn_model.h5\")\n",
    "    prediction = hybrid_model.predict(input_pad)\n",
    "    return \"Spam\" if prediction[0] > 0.5 else \"Ham\"\n",
    "\n",
    "# Example prediction\n",
    "custom_input = \"Free entry in 2 a wkly comp to win FA Cup final tkts 21st May 2005. Text FA to 87121 to receive entry question(std txt rate)T&C's apply 08452810075over18's\"\n",
    "print(f\"Prediction for custom input: {predict_custom_input(custom_input)}\")"
   ]
  }
 ],
 "metadata": {
  "kernelspec": {
   "display_name": "100p",
   "language": "python",
   "name": "python3"
  },
  "language_info": {
   "codemirror_mode": {
    "name": "ipython",
    "version": 3
   },
   "file_extension": ".py",
   "mimetype": "text/x-python",
   "name": "python",
   "nbconvert_exporter": "python",
   "pygments_lexer": "ipython3",
   "version": "3.8.20"
  }
 },
 "nbformat": 4,
 "nbformat_minor": 2
}
